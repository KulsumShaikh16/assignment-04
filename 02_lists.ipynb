{
  "nbformat": 4,
  "nbformat_minor": 0,
  "metadata": {
    "colab": {
      "provenance": [],
      "authorship_tag": "ABX9TyOtO1eZZX3yJnobnLUE4iuu",
      "include_colab_link": true
    },
    "kernelspec": {
      "name": "python3",
      "display_name": "Python 3"
    },
    "language_info": {
      "name": "python"
    }
  },
  "cells": [
    {
      "cell_type": "markdown",
      "metadata": {
        "id": "view-in-github",
        "colab_type": "text"
      },
      "source": [
        "<a href=\"https://colab.research.google.com/github/KulsumShaikh16/assignment-04/blob/main/02_lists.ipynb\" target=\"_parent\"><img src=\"https://colab.research.google.com/assets/colab-badge.svg\" alt=\"Open In Colab\"/></a>"
      ]
    },
    {
      "cell_type": "markdown",
      "source": [
        "01_add_many_number.md"
      ],
      "metadata": {
        "id": "5oMTtvujeemA"
      }
    },
    {
      "cell_type": "code",
      "source": [
        "def add_many_numbers(numbers)->int:\n",
        "\n",
        "\n",
        "    num: int = 0\n",
        "    for n in numbers:\n",
        "        num += n\n",
        "\n",
        "    return num\n",
        "\n",
        "\n",
        "\n",
        "def main():\n",
        "    numbers: list[int] = [10,20,30,50,60,80,6,4,6]  # Make a list of numbers\n",
        "    sum_of_numbers: int = add_many_numbers(numbers)  # Find the sum of the list\n",
        "    print(sum_of_numbers)  # Print out the sum above\n",
        "\n",
        "\n",
        "if __name__ == '__main__':\n",
        "    main()"
      ],
      "metadata": {
        "colab": {
          "base_uri": "https://localhost:8080/"
        },
        "id": "LpIuUxOHej5m",
        "outputId": "8dd89138-fa81-4b58-a858-92a4abe6402a"
      },
      "execution_count": 1,
      "outputs": [
        {
          "output_type": "stream",
          "name": "stdout",
          "text": [
            "266\n"
          ]
        }
      ]
    },
    {
      "cell_type": "markdown",
      "source": [
        "02_double_list.md"
      ],
      "metadata": {
        "id": "G78dzkvHepAH"
      }
    },
    {
      "cell_type": "code",
      "source": [
        "def main():\n",
        "    numbers: list[int] = [1, 2, 3, 4]  # Creates a list of numbers\n",
        "\n",
        "    for i in range(len(numbers)):  # Loop through the indices of the list\n",
        "        index = numbers[i]  # Get the element at index i in the numbers list\n",
        "        numbers[i] = index * 2  # Set the element at index i to be equal to the previous element times 2\n",
        "\n",
        "    print(numbers)  # This should print the doubled list\n",
        "\n",
        "\n",
        "\n",
        "if __name__ == '__main__':\n",
        "    main()"
      ],
      "metadata": {
        "colab": {
          "base_uri": "https://localhost:8080/"
        },
        "id": "y7UYr8hVerg7",
        "outputId": "e08e531e-d8bf-47fe-adfd-ae82280427da"
      },
      "execution_count": 2,
      "outputs": [
        {
          "output_type": "stream",
          "name": "stdout",
          "text": [
            "[2, 4, 6, 8]\n"
          ]
        }
      ]
    },
    {
      "cell_type": "markdown",
      "source": [
        "03_erase_canvas.md"
      ],
      "metadata": {
        "id": "K2uW_vDlev4E"
      }
    },
    {
      "cell_type": "markdown",
      "source": [
        "04_flowing_with_data_structures.md"
      ],
      "metadata": {
        "id": "sk52pXn4igtm"
      }
    },
    {
      "cell_type": "code",
      "source": [
        "def add_copies(my_list, data):\n",
        "    for i in range(3):\n",
        "        my_list.append(data)\n",
        "\n",
        "\n",
        "\n",
        "def main():\n",
        "    message = input(\"Enter a message to copy: \")\n",
        "    my_list = []\n",
        "    print(\"List before:\", my_list)\n",
        "    add_copies(my_list, message)\n",
        "    print(\"List after:\", my_list)\n",
        "\n",
        "if __name__ == \"__main__\":\n",
        "    main()"
      ],
      "metadata": {
        "colab": {
          "base_uri": "https://localhost:8080/"
        },
        "id": "pUYvrAkmijvN",
        "outputId": "c6d9b986-b766-4fc2-82fb-0cf2d7b397bc"
      },
      "execution_count": 4,
      "outputs": [
        {
          "output_type": "stream",
          "name": "stdout",
          "text": [
            "Enter a message to copy: hello,how are you?\n",
            "List before: []\n",
            "List after: ['hello,how are you?', 'hello,how are you?', 'hello,how are you?']\n"
          ]
        }
      ]
    },
    {
      "cell_type": "markdown",
      "source": [
        "05_get_first_element.md"
      ],
      "metadata": {
        "id": "PZvXxUlejqLs"
      }
    },
    {
      "cell_type": "code",
      "source": [
        "\n",
        "def get_first_element(lst):\n",
        "   print(lst[0])\n",
        "\n",
        "\n",
        "\n",
        "def get_lst():\n",
        "\n",
        "    lst = []\n",
        "    element: str = input(\"Please enter an element of the list or press enter to stop. \")\n",
        "    while element != \"\":\n",
        "        lst.append(element)\n",
        "    return lst\n",
        "\n",
        "def main():\n",
        "    lst = get_lst()\n",
        "    get_first_element(lst)\n",
        "\n",
        "\n",
        "if __name__ == '__main__':\n",
        "    main()\n",
        "\n"
      ],
      "metadata": {
        "colab": {
          "base_uri": "https://localhost:8080/"
        },
        "id": "x60SqnUcjrcv",
        "outputId": "c7e95ae5-2e34-4454-e506-65935a4c7edd"
      },
      "execution_count": null,
      "outputs": [
        {
          "name": "stdout",
          "output_type": "stream",
          "text": [
            "Please enter an element of the list or press enter to stop. 20\n"
          ]
        }
      ]
    },
    {
      "cell_type": "markdown",
      "source": [
        "06_get_last_element.md"
      ],
      "metadata": {
        "id": "nKOOD8OrnJDn"
      }
    },
    {
      "cell_type": "code",
      "source": [
        "def get_last_element(lst):\n",
        "  print(lst[-1])\n",
        "\n",
        "\n",
        "def main():\n",
        "  lst = [1,2,3,4,5]\n",
        "\n",
        "  get_last_element(lst)\n",
        "\n",
        "\n",
        "if __name__ == '__main__':\n",
        "  main()"
      ],
      "metadata": {
        "colab": {
          "base_uri": "https://localhost:8080/"
        },
        "id": "EZ2ipZY6nQzd",
        "outputId": "e426e1e0-ef99-4fea-da4a-86d6585fdc72"
      },
      "execution_count": 1,
      "outputs": [
        {
          "output_type": "stream",
          "name": "stdout",
          "text": [
            "5\n"
          ]
        }
      ]
    },
    {
      "cell_type": "markdown",
      "source": [
        "07_get_list.md"
      ],
      "metadata": {
        "id": "gF7mrtVMoCqS"
      }
    },
    {
      "cell_type": "code",
      "source": [
        "def main():\n",
        "    lst = []  # Make an empty list to store things in\n",
        "\n",
        "    val = input(\"Enter a value: \")  # Get an initial value\n",
        "    while val:  # While the user input isn't an empty value\n",
        "        lst.append(val) # Add val to list\n",
        "        val = input(\"Enter a value: \")  # Get the next value to add\n",
        "\n",
        "    print(\"Here's the list:\", lst)\n",
        "\n",
        "\n",
        "# There is no need to edit code beyond this point\n",
        "\n",
        "if __name__ == '__main__':\n",
        "    main()"
      ],
      "metadata": {
        "colab": {
          "base_uri": "https://localhost:8080/"
        },
        "id": "MSKnTlb2oE-4",
        "outputId": "d8597e83-2d85-418b-a0dc-d32cf6ef6909"
      },
      "execution_count": 3,
      "outputs": [
        {
          "output_type": "stream",
          "name": "stdout",
          "text": [
            "Enter a value: 70\n",
            "your value entered to the list: \n",
            "Here's the list: ['70']\n"
          ]
        }
      ]
    },
    {
      "cell_type": "markdown",
      "source": [
        "08_shorten.md"
      ],
      "metadata": {
        "id": "3EBDLqnjpNM-"
      }
    },
    {
      "cell_type": "code",
      "source": [
        "MAX_LENGTH : int = 3\n",
        "\n",
        "def shorten(lst):\n",
        "    while len(lst) > MAX_LENGTH:\n",
        "        last_element = lst.pop()\n",
        "        print(last_element)\n",
        "\n",
        "# There is no need to edit code beyond this point\n",
        "\n",
        "def get_lst():\n",
        "    \"\"\"\n",
        "    Prompts the user to enter one element of the list at a time and returns the resulting list.\n",
        "    \"\"\"\n",
        "    lst = []\n",
        "    element = input(\"Please enter an element of the list or press enter to stop. \")\n",
        "    while element != \"\":\n",
        "        lst.append(element\n",
        "\n",
        "                   )\n",
        "        element = input(\"Please enter an element of the list or press enter to stop. \")\n",
        "    return lst\n",
        "\n",
        "def main():\n",
        "    lst = get_lst()\n",
        "    shorten(lst)\n",
        "\n",
        "\n",
        "if __name__ == '__main__':\n",
        "    main()"
      ],
      "metadata": {
        "colab": {
          "base_uri": "https://localhost:8080/"
        },
        "id": "K134EaLipMsu",
        "outputId": "4e060654-8245-4e27-b7e9-1e873230c852"
      },
      "execution_count": 4,
      "outputs": [
        {
          "name": "stdout",
          "output_type": "stream",
          "text": [
            "Please enter an element of the list or press enter to stop. 80\n",
            "Please enter an element of the list or press enter to stop. 70\n",
            "Please enter an element of the list or press enter to stop. 79\n",
            "Please enter an element of the list or press enter to stop. \n"
          ]
        }
      ]
    }
  ]
}