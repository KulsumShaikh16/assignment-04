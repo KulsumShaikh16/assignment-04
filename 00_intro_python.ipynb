{
  "nbformat": 4,
  "nbformat_minor": 0,
  "metadata": {
    "colab": {
      "provenance": [],
      "authorship_tag": "ABX9TyP8llrD5CszZhM4TcUiDpTh",
      "include_colab_link": true
    },
    "kernelspec": {
      "name": "python3",
      "display_name": "Python 3"
    },
    "language_info": {
      "name": "python"
    }
  },
  "cells": [
    {
      "cell_type": "markdown",
      "metadata": {
        "id": "view-in-github",
        "colab_type": "text"
      },
      "source": [
        "<a href=\"https://colab.research.google.com/github/KulsumShaikh16/assignment-04/blob/main/00_intro_python.ipynb\" target=\"_parent\"><img src=\"https://colab.research.google.com/assets/colab-badge.svg\" alt=\"Open In Colab\"/></a>"
      ]
    },
    {
      "cell_type": "markdown",
      "source": [],
      "metadata": {
        "id": "ft5dm4xJmC_R"
      }
    },
    {
      "cell_type": "markdown",
      "source": [
        "**Homework Projects**"
      ],
      "metadata": {
        "id": "4JyDgvEJmOT5"
      }
    },
    {
      "cell_type": "markdown",
      "source": [
        "01_add_two_numbers.md\n"
      ],
      "metadata": {
        "id": "Z3KUSvNgmml_"
      }
    },
    {
      "cell_type": "markdown",
      "source": [
        "Solution"
      ],
      "metadata": {
        "id": "RUmjSw-Gmy8e"
      }
    },
    {
      "cell_type": "code",
      "source": [
        "\"\"\"\n",
        "Program: add2numbers\n",
        "--------------------\n",
        "Another python program to get some practice with\n",
        "variables.  This program asks the user for two\n",
        "integers and prints their sum.\n",
        "\"\"\"\n",
        "\n",
        "\n",
        "def main():\n",
        "    print(\"This program adds two numbers.\")\n",
        "    num1 : str = input(\"Enter first number: \")\n",
        "    num1 : int = int(num1)\n",
        "    num2  : str = input(\"Enter second number: \")\n",
        "    num2 : int = int(num2)\n",
        "    total : int = num1 + num2\n",
        "    print(f\"The total number is \" + str(total) + \".\")\n",
        "\n",
        "\n",
        "# This provided line is required at the end of\n",
        "# Python file to call the main() function.\n",
        "if __name__ == '__main__':\n",
        "    main()"
      ],
      "metadata": {
        "id": "hV_vmSO7m35n",
        "colab": {
          "base_uri": "https://localhost:8080/"
        },
        "outputId": "fe4c007a-9311-41e3-bcb6-6495622c678b"
      },
      "execution_count": null,
      "outputs": [
        {
          "output_type": "stream",
          "name": "stdout",
          "text": [
            "This program adds two numbers.\n",
            "Enter first number: 3\n",
            "Enter second number: 5\n",
            "The total is 8.\n"
          ]
        }
      ]
    },
    {
      "cell_type": "markdown",
      "source": [
        "02_agreement_bot.md"
      ],
      "metadata": {
        "id": "5_BTwa4znAeY"
      }
    },
    {
      "cell_type": "markdown",
      "source": [
        "Solution"
      ],
      "metadata": {
        "id": "yL9jRnT8nMHp"
      }
    },
    {
      "cell_type": "code",
      "source": [
        "def bot():\n",
        "  # Ask the user for their favorite animal\n",
        "  favorite_animal = str(input(\"What their favorite animal is \"))\n",
        "\n",
        "   # Respond with the same animal\n",
        "  print(f\"My favorite animal is also {favorite_animal}!\")\n",
        "\n",
        "\n",
        "# This provided line is required at the end of\n",
        "# the Python file to call the main() function.\n",
        "if __name__ == '__main__':\n",
        "   bot()"
      ],
      "metadata": {
        "colab": {
          "base_uri": "https://localhost:8080/"
        },
        "id": "EqCSVv1mnNAZ",
        "outputId": "f2728906-0cb7-436a-83cf-b4abed28775c"
      },
      "execution_count": null,
      "outputs": [
        {
          "output_type": "stream",
          "name": "stdout",
          "text": [
            " what their favorite animal is lion\n",
            "My favorite animal is also lion!\n"
          ]
        }
      ]
    },
    {
      "cell_type": "markdown",
      "source": [
        "03_fahrenheit_to_celsius.md"
      ],
      "metadata": {
        "id": "IOReZ-y7oWxO"
      }
    },
    {
      "cell_type": "markdown",
      "source": [
        "Solution"
      ],
      "metadata": {
        "id": "mecGuUePokcd"
      }
    },
    {
      "cell_type": "code",
      "source": [
        "def temp():\n",
        "    # Prompt the user for a temperature in Fahrenheit\n",
        "    degrees_fahrenheit = float(input(\"Enter temperature in Fahrenheit: \"))\n",
        "\n",
        "    # Convert Fahrenheit to Celsius\n",
        "    degrees_celsius = (degrees_fahrenheit - 32) * 5.0 / 9.0\n",
        "\n",
        "    # Print the result\n",
        "    print(f\"Temperature: {degrees_fahrenheit:.1f}F = {degrees_celsius:.15f}C\")\n",
        "\n",
        "# This provided line is required at the end of\n",
        "# the Python file to call the main() function.\n",
        "if __name__ == '__main__':\n",
        "    temp()\n"
      ],
      "metadata": {
        "colab": {
          "base_uri": "https://localhost:8080/"
        },
        "id": "yMGO7gqQolWr",
        "outputId": "1371b02e-19ae-464e-e598-f845120a13a5"
      },
      "execution_count": null,
      "outputs": [
        {
          "output_type": "stream",
          "name": "stdout",
          "text": [
            "Enter temperature in Fahrenheit: 100\n",
            "Temperature: 100.0F = 37.777777777777779C\n"
          ]
        }
      ]
    },
    {
      "cell_type": "markdown",
      "source": [
        "04_how_old_are_they.md"
      ],
      "metadata": {
        "id": "s1jJjGcnpSwS"
      }
    },
    {
      "cell_type": "markdown",
      "source": [
        "Solution"
      ],
      "metadata": {
        "id": "ZpfFbxPFpmWv"
      }
    },
    {
      "cell_type": "code",
      "source": [
        "def age():\n",
        "    ali : int = 24  # Ali's age is given as 21 years old\n",
        "    bilal : int = 6 + ali  # Bilal is 6 years older than Ali, so add 6 to Ali's age to get Bilal's\n",
        "    hamza : int = 20 + bilal # Hamza is 20 years older than Bilal, so add 20 to Bilal's age to get hamza's\n",
        "    ayaz : int= hamza + ali  #Ayaz is as old as hamza's age plus Ali's age, so add them together\n",
        "    ahmed : int = hamza  #Ahmed is the same age as hamza, so set Ahmed's age equal to hamza's\n",
        "\n",
        "   # Print out all of the ages!\n",
        "    print(\"Ali is \" + str(ali))\n",
        "    print(\"Bilal is \" + str(bilal))\n",
        "    print(\"Hamza is \" + str(hamza))\n",
        "    print(\"Ayaz is \" + str(ayaz))\n",
        "    print(\"Ahmed is \" + str(ahmed))\n",
        "\n",
        "\n",
        "# There is no need to edit code beyond this point\n",
        "\n",
        "if __name__ == '__main__':\n",
        "    age()"
      ],
      "metadata": {
        "id": "oURNdbSGpo8s",
        "colab": {
          "base_uri": "https://localhost:8080/"
        },
        "outputId": "5a134012-55c6-4081-d53a-4f00ba12e163"
      },
      "execution_count": null,
      "outputs": [
        {
          "output_type": "stream",
          "name": "stdout",
          "text": [
            "Ali is 24\n",
            "Bilal is 30\n",
            "Hamza is 50\n",
            "Ayaz is 74\n",
            "Ahmed is 50\n"
          ]
        }
      ]
    },
    {
      "cell_type": "markdown",
      "source": [
        "05_triangle_perimeter.md"
      ],
      "metadata": {
        "id": "luUTYNofpzrP"
      }
    },
    {
      "cell_type": "markdown",
      "source": [
        "Solution"
      ],
      "metadata": {
        "id": "Ohnvxz9tp7yJ"
      }
    },
    {
      "cell_type": "code",
      "source": [
        "def length ():\n",
        "    # Get the 3 side lengths of the triangle\n",
        "    side1: float = float(input(\"What is the length of side 1? \"))\n",
        "    side2: float = float(input(\"What is the length of side 2? \"))\n",
        "    side3: float = float(input(\"What is the length of side 3? \"))\n",
        "\n",
        "    # Print out the perimeter (sum of the sides) of the triangle, make sure to cast it to a str when concatenating!\n",
        "    print(\"The perimeter of the triangle is \" + str(side1 + side2 + side3))\n",
        "\n",
        "\n",
        "# There is no need to edit code beyond this point\n",
        "\n",
        "if __name__ == '__main__':\n",
        "    length()"
      ],
      "metadata": {
        "id": "0iBRc75mp6ub",
        "colab": {
          "base_uri": "https://localhost:8080/"
        },
        "outputId": "f4ceca7e-e0c8-41a9-9b91-6940f5df44e3"
      },
      "execution_count": null,
      "outputs": [
        {
          "output_type": "stream",
          "name": "stdout",
          "text": [
            "What is the length of side 1? 20\n",
            "What is the length of side 2? 20\n",
            "What is the length of side 3? 20\n",
            "The perimeter of the triangle is 60.0\n"
          ]
        }
      ]
    },
    {
      "cell_type": "markdown",
      "source": [
        "06_square_number.md"
      ],
      "metadata": {
        "id": "6wo98lm3qGKg"
      }
    },
    {
      "cell_type": "markdown",
      "source": [
        "Solution"
      ],
      "metadata": {
        "id": "uWsPujE4qQ02"
      }
    },
    {
      "cell_type": "code",
      "source": [
        "def square():\n",
        "    num1: float = float(input(\"Type a number to see its square: \")) # Make sure to cast the input to a float so we can do math with it!\n",
        "    print(str(num1) + \" squared is \" + str(num1** 2)) # num1 * num is equivalent to num ** 2. The ** operator raises something to a power!\n",
        "\n",
        "\n",
        "# There is no need to edit code beyond this point\n",
        "\n",
        "if __name__ == '__main__':\n",
        "    square()"
      ],
      "metadata": {
        "id": "SAPb0C9EqUln"
      },
      "execution_count": null,
      "outputs": []
    }
  ]
}