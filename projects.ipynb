{
  "cells": [
    {
      "cell_type": "markdown",
      "metadata": {
        "id": "view-in-github",
        "colab_type": "text"
      },
      "source": [
        "<a href=\"https://colab.research.google.com/github/KulsumShaikh16/assignment-04/blob/main/projects.ipynb\" target=\"_parent\"><img src=\"https://colab.research.google.com/assets/colab-badge.svg\" alt=\"Open In Colab\"/></a>"
      ]
    },
    {
      "cell_type": "markdown",
      "metadata": {
        "id": "gNIlbUYjs-I5"
      },
      "source": [
        "Project 1: Mad libs Python Project"
      ]
    },
    {
      "cell_type": "code",
      "execution_count": null,
      "metadata": {
        "colab": {
          "base_uri": "https://localhost:8080/"
        },
        "id": "0rmhbl24tIgr",
        "outputId": "995f511e-c388-4aeb-f8d2-146453ef2e10"
      },
      "outputs": [
        {
          "name": "stdout",
          "output_type": "stream",
          "text": [
            "Welcome to Mad Libs!\n",
            "Enter an adjective: fluffy\n",
            "Enter a noun: cat\n",
            "Enter a verb (past tense): ran\n",
            "Enter another noun: sand\n",
            "Enter another adjective: pet\n",
            "Enter a verb (present tense): play\n",
            "Enter a noun: peoples\n",
            "\n",
            "Here is your Mad Libs story:\n",
            "\n",
            "Today I went to the zoo. I saw a very fluffy cat jumping up and down in its tree. It ran through the branches and landed on a sand. The zookeeper told me that it was a pet animal, and that it loved to play with other peopless.\n"
          ]
        }
      ],
      "source": [
        "def mad_libs():\n",
        "    # Ask for user input\n",
        "    print(\"Welcome to Mad Libs!\")\n",
        "\n",
        "    # Collect various types of words from the user\n",
        "    adjective1 = input(\"Enter an adjective: \")\n",
        "    noun1 = input(\"Enter a noun: \")\n",
        "    verb1 = input(\"Enter a verb (past tense): \")\n",
        "    noun2 = input(\"Enter another noun: \")\n",
        "    adjective2 = input(\"Enter another adjective: \")\n",
        "    verb2 = input(\"Enter a verb (present tense): \")\n",
        "    noun3 = input(\"Enter a noun: \")\n",
        "\n",
        "    # Create the Mad Libs story template\n",
        "    story = f\"Today I went to the zoo. I saw a very {adjective1} {noun1} jumping up and down in its tree. \\\n",
        "It {verb1} through the branches and landed on a {noun2}. The zookeeper told me that it was a {adjective2} animal, \\\n",
        "and that it loved to {verb2} with other {noun3}s.\"\n",
        "\n",
        "    # Display the generated story\n",
        "    print(\"\\nHere is your Mad Libs story:\\n\")\n",
        "    print(story)\n",
        "\n",
        "if __name__ == \"__main__\":\n",
        "    mad_libs()\n",
        "\n"
      ]
    },
    {
      "cell_type": "markdown",
      "metadata": {
        "id": "kECv9fv31wp4"
      },
      "source": [
        "Project 2: Guess the Number Game Python Project (computer)"
      ]
    },
    {
      "cell_type": "code",
      "execution_count": null,
      "metadata": {
        "colab": {
          "base_uri": "https://localhost:8080/"
        },
        "id": "A5wfQ0eX1ynU",
        "outputId": "a1f30bdf-65a5-4afb-cae5-dcf2fed65970"
      },
      "outputs": [
        {
          "name": "stdout",
          "output_type": "stream",
          "text": [
            "🎉 Welcome to the Guess the Number Game!\n",
            "I'm thinking of a number between 1 and 100...\n",
            "Enter your guess: 14\n",
            "Too low! Try again.\n",
            "Enter your guess: 40\n",
            "Too low! Try again.\n",
            "Enter your guess: 70\n",
            "Too high! Try again.\n",
            "Enter your guess: 5\n",
            "Too low! Try again.\n",
            "Enter your guess: 50\n",
            "Too low! Try again.\n",
            "Enter your guess: 6\n",
            "Too low! Try again.\n",
            "Enter your guess: 60\n",
            "Too high! Try again.\n",
            "Enter your guess: 55\n",
            "Too high! Try again.\n",
            "Enter your guess: 52\n",
            "🎉 Congratulations! You guessed the number 52 in 9 attempts.\n"
          ]
        }
      ],
      "source": [
        "import random\n",
        "\n",
        "def guess_the_number():\n",
        "    print(\"🎉 Welcome to the Guess the Number Game!\")\n",
        "    print(\"I'm thinking of a number between 1 and 100...\")\n",
        "\n",
        "    # Step 1: Computer chooses a number\n",
        "    secret_number = random.randint(1, 100)\n",
        "    attempts = 0\n",
        "    guessed = False\n",
        "\n",
        "    # Step 2: Loop until the user guesses correctly\n",
        "    while not guessed:\n",
        "        try:\n",
        "            guess = int(input(\"Enter your guess: \"))\n",
        "            attempts += 1\n",
        "\n",
        "            if guess < secret_number:\n",
        "                print(\"Too low! Try again.\")\n",
        "            elif guess > secret_number:\n",
        "                print(\"Too high! Try again.\")\n",
        "            else:\n",
        "                guessed = True\n",
        "                print(f\"🎉 Congratulations! You guessed the number {secret_number} in {attempts} attempts.\")\n",
        "        except ValueError:\n",
        "            print(\"Please enter a valid number.\")\n",
        "\n",
        "if __name__ == \"__main__\":\n",
        "    guess_the_number()\n"
      ]
    },
    {
      "cell_type": "markdown",
      "metadata": {
        "id": "t8WaQLwd2LWP"
      },
      "source": [
        "Project 3: Guess the Number Game Python Project (user)"
      ]
    },
    {
      "cell_type": "code",
      "execution_count": null,
      "metadata": {
        "colab": {
          "base_uri": "https://localhost:8080/"
        },
        "id": "WDdaYhJa2M3m",
        "outputId": "b3f4fae2-5616-4fb9-a7de-b291d94a4a1b"
      },
      "outputs": [
        {
          "name": "stdout",
          "output_type": "stream",
          "text": [
            "🧠 Think of a number between 1 and 100, and I will try to guess it!\n",
            "When I guess, tell me if it's 'high', 'low', or 'correct'.\n",
            "My guess is: 50\n",
            "Is it 'high', 'low', or 'correct'? low\n",
            "My guess is: 75\n",
            "Is it 'high', 'low', or 'correct'? high\n",
            "My guess is: 62\n",
            "Is it 'high', 'low', or 'correct'? high\n",
            "My guess is: 56\n",
            "Is it 'high', 'low', or 'correct'? high\n",
            "My guess is: 53\n",
            "Is it 'high', 'low', or 'correct'? high\n",
            "My guess is: 51\n",
            "Is it 'high', 'low', or 'correct'? low\n",
            "My guess is: 52\n",
            "Is it 'high', 'low', or 'correct'? correct\n",
            "🎉 I guessed your number in 7 attempts!\n"
          ]
        }
      ],
      "source": [
        "def computer_guesses_number():\n",
        "    print(\"🧠 Think of a number between 1 and 100, and I will try to guess it!\")\n",
        "    print(\"When I guess, tell me if it's 'high', 'low', or 'correct'.\")\n",
        "\n",
        "    low = 1\n",
        "    high = 100\n",
        "    attempts = 0\n",
        "    feedback = ''\n",
        "\n",
        "    while feedback != 'correct':\n",
        "        if low > high:\n",
        "            print(\"Hmm 🤔 something doesn't add up. Did you make a mistake?\")\n",
        "            break\n",
        "\n",
        "        guess = (low + high) // 2\n",
        "        print(f\"My guess is: {guess}\")\n",
        "        feedback = input(\"Is it 'high', 'low', or 'correct'? \").lower()\n",
        "        attempts += 1\n",
        "\n",
        "        if feedback == 'low':\n",
        "            low = guess + 1\n",
        "        elif feedback == 'high':\n",
        "            high = guess - 1\n",
        "        elif feedback != 'correct':\n",
        "            print(\"Please respond with 'high', 'low', or 'correct'.\")\n",
        "\n",
        "    if feedback == 'correct':\n",
        "        print(f\"🎉 I guessed your number in {attempts} attempts!\")\n",
        "\n",
        "if __name__ == \"__main__\":\n",
        "    computer_guesses_number()\n",
        "''"
      ]
    },
    {
      "cell_type": "markdown",
      "metadata": {
        "id": "Gn8SIXvW3Nck"
      },
      "source": [
        "Project 4: Rock, paper, scissors Python Project"
      ]
    },
    {
      "cell_type": "code",
      "execution_count": null,
      "metadata": {
        "colab": {
          "background_save": true,
          "base_uri": "https://localhost:8080/"
        },
        "id": "BY62UwbQ3PFN",
        "outputId": "7a9c4327-5e99-4d89-cc90-ad2e28d56f32"
      },
      "outputs": [
        {
          "metadata": {
            "tags": null
          },
          "name": "stdout",
          "output_type": "stream",
          "text": [
            "🎮 Welcome to Rock, Paper, Scissors!\n",
            "🧑 You chose: paper\n",
            "💻 Computer chose: rock\n",
            "✅ You win!\n",
            "🧑 You chose: rock\n",
            "💻 Computer chose: rock\n",
            "🤝 It's a tie!\n"
          ]
        }
      ],
      "source": [
        "import random\n",
        "\n",
        "def play_rps():\n",
        "    options = ['rock', 'paper', 'scissors']\n",
        "    print(\"🎮 Welcome to Rock, Paper, Scissors!\")\n",
        "\n",
        "    while True:\n",
        "        user_choice = input(\"Choose rock, paper, or scissors: \").lower()\n",
        "\n",
        "        if user_choice not in options:\n",
        "            print(\"❌ Invalid choice. Try again.\")\n",
        "            continue\n",
        "\n",
        "        computer_choice = random.choice(options)\n",
        "        print(f\"🧑 You chose: {user_choice}\")\n",
        "        print(f\"💻 Computer chose: {computer_choice}\")\n",
        "\n",
        "        if user_choice == computer_choice:\n",
        "            print(\"🤝 It's a tie!\")\n",
        "        elif (\n",
        "            (user_choice == 'rock' and computer_choice == 'scissors') or\n",
        "            (user_choice == 'scissors' and computer_choice == 'paper') or\n",
        "            (user_choice == 'paper' and computer_choice == 'rock')\n",
        "        ):\n",
        "            print(\"✅ You win!\")\n",
        "        else:\n",
        "            print(\"💻 Computer wins!\")\n",
        "\n",
        "        play_again = input(\"Do you want to play again? (yes/no): \").lower()\n",
        "        if play_again != 'yes':\n",
        "            print(\"👋 Thanks for playing!\")\n",
        "            break\n",
        "\n",
        "if __name__ == \"__main__\":\n",
        "    play_rps()\n"
      ]
    },
    {
      "cell_type": "markdown",
      "metadata": {
        "id": "k5TEdzgG32y5"
      },
      "source": [
        "Project 5: Hangman Python Project"
      ]
    },
    {
      "cell_type": "code",
      "execution_count": null,
      "metadata": {
        "id": "D361LL4j34Bs"
      },
      "outputs": [],
      "source": [
        "import random\n",
        "\n",
        "def hangman():\n",
        "    words = [\"python\", \"programming\", \"hangman\", \"challenge\", \"developer\"]\n",
        "    word = random.choice(words)\n",
        "    word_letters = set(word)\n",
        "    guessed_letters = set()\n",
        "    attempts = 6\n",
        "\n",
        "    print(\"Welcome to Hangman!\")\n",
        "    print(\"_ \" * len(word))\n",
        "\n",
        "    while attempts > 0 and word_letters:\n",
        "        guess = input(\"\\nGuess a letter: \").lower()\n",
        "\n",
        "        if not guess.isalpha() or len(guess) != 1:\n",
        "            print(\"Please enter only one valid letter.\")\n",
        "            continue\n",
        "\n",
        "        if guess in guessed_letters:\n",
        "            print(\"You've already guessed that letter.\")\n",
        "        elif guess in word_letters:\n",
        "            print(\"Good job! That letter is in the word.\")\n",
        "            word_letters.remove(guess)\n",
        "        else:\n",
        "            print(\"Wrong guess!\")\n",
        "            attempts -= 1\n",
        "            print(f\"Attempts left: {attempts}\")\n",
        "\n",
        "        guessed_letters.add(guess)\n",
        "\n",
        "        # Show current word progress\n",
        "        current_word = [letter if letter in guessed_letters else '_' for letter in word]\n",
        "        print(\" \".join(current_word))\n",
        "\n",
        "    if not word_letters:\n",
        "        print(\"\\n🎉 Congratulations! You guessed the word:\", word)\n",
        "    else:\n",
        "        print(\"\\n💀 Out of attempts! The word was:\", word)\n",
        "\n",
        "# Start the game\n",
        "hangman()\n"
      ]
    },
    {
      "cell_type": "markdown",
      "metadata": {
        "id": "b6nblAon4ZDS"
      },
      "source": [
        "Project 6: Countdown Timer Python Project"
      ]
    },
    {
      "cell_type": "code",
      "execution_count": null,
      "metadata": {
        "id": "ygV75RNC4aMf"
      },
      "outputs": [],
      "source": [
        "import time\n",
        "\n",
        "def countdown_timer():\n",
        "    seconds = int(input(\"Enter time in seconds: \"))\n",
        "\n",
        "    while seconds > 0:\n",
        "        mins, secs = divmod(seconds, 60)\n",
        "        time_format = f\"{mins:02d}:{secs:02d}\"\n",
        "        print(time_format, end=\"\\r\")  # '\\r' refreshes the same line\n",
        "        time.sleep(1)\n",
        "        seconds -= 1\n",
        "\n",
        "    print(\"⏰ Time's up!\")\n",
        "\n",
        "# Start the timer\n",
        "countdown_timer()\n"
      ]
    },
    {
      "cell_type": "markdown",
      "metadata": {
        "id": "_yZX9zn94mhi"
      },
      "source": [
        "Project 7: Password Generator Python Project"
      ]
    },
    {
      "cell_type": "code",
      "execution_count": null,
      "metadata": {
        "id": "UED5kAKz4omJ"
      },
      "outputs": [],
      "source": [
        "import random\n",
        "import string\n",
        "\n",
        "def generate_password():\n",
        "    length = int(input(\"Enter the desired password length: \"))\n",
        "\n",
        "    if length < 4:\n",
        "        print(\"Password length should be at least 4 for good security.\")\n",
        "        return\n",
        "\n",
        "    characters = string.ascii_letters + string.digits + string.punctuation\n",
        "    password = ''.join(random.choice(characters) for _ in range(length))\n",
        "\n",
        "    print(f\"Your generated password is: {password}\")\n",
        "\n",
        "# Run the generator\n",
        "generate_password()\n"
      ]
    }
  ],
  "metadata": {
    "colab": {
      "provenance": [],
      "authorship_tag": "ABX9TyMfsdXRdXFrxdPwXbPg6Od0",
      "include_colab_link": true
    },
    "kernelspec": {
      "display_name": "Python 3",
      "name": "python3"
    },
    "language_info": {
      "name": "python"
    }
  },
  "nbformat": 4,
  "nbformat_minor": 0
}