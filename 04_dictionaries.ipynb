{
  "nbformat": 4,
  "nbformat_minor": 0,
  "metadata": {
    "colab": {
      "provenance": [],
      "authorship_tag": "ABX9TyPXFK7rVLlW8Bnx3lAjfXcW",
      "include_colab_link": true
    },
    "kernelspec": {
      "name": "python3",
      "display_name": "Python 3"
    },
    "language_info": {
      "name": "python"
    }
  },
  "cells": [
    {
      "cell_type": "markdown",
      "metadata": {
        "id": "view-in-github",
        "colab_type": "text"
      },
      "source": [
        "<a href=\"https://colab.research.google.com/github/KulsumShaikh16/assignment-04/blob/main/04_dictionaries.ipynb\" target=\"_parent\"><img src=\"https://colab.research.google.com/assets/colab-badge.svg\" alt=\"Open In Colab\"/></a>"
      ]
    },
    {
      "cell_type": "markdown",
      "source": [],
      "metadata": {
        "id": "lfrIkBzOwx4C"
      }
    },
    {
      "cell_type": "markdown",
      "source": [
        "00_count_nums.md"
      ],
      "metadata": {
        "id": "7sZj3TfgxI10"
      }
    },
    {
      "cell_type": "code",
      "source": [
        "# This program counts how many times each number appears in a list.\n",
        "# It asks the user to enter numbers one by one.\n",
        "# When the user presses Enter without typing a number, it shows the count of each number entered.\n",
        "\n",
        "def get_numbers_from_user():\n",
        "    numbers = []\n",
        "\n",
        "    while True:\n",
        "        user_input = input(\"Enter a number: \")\n",
        "\n",
        "        if user_input == \"\":\n",
        "            break  # Stop when the user enters a blank line\n",
        "\n",
        "        number = int(user_input)  # Convert to integer\n",
        "        numbers.append(number)    # Add to the list\n",
        "\n",
        "    return numbers\n",
        "\n",
        "\n",
        "def count_numbers(numbers):\n",
        "    count = {}\n",
        "\n",
        "    for num in numbers:\n",
        "        if num in count:\n",
        "            count[num] += 1  # If already in dictionary, increase count\n",
        "        else:\n",
        "            count[num] = 1   # If not, start with count 1\n",
        "\n",
        "    return count\n",
        "\n",
        "\n",
        "def show_counts(counts):\n",
        "    for num, times in counts.items():\n",
        "        print(f\"{num} appears {times} times.\")\n",
        "\n",
        "\n",
        "def main():\n",
        "    user_numbers = get_numbers_from_user()\n",
        "    number_counts = count_numbers(user_numbers)\n",
        "    show_counts(number_counts)\n",
        "\n",
        "\n",
        "# Python boilerplate: runs main() when the file is executed\n",
        "if __name__ == '__main__':\n",
        "    main()\n"
      ],
      "metadata": {
        "colab": {
          "base_uri": "https://localhost:8080/"
        },
        "id": "yHwdYKvnxFGE",
        "outputId": "66edf746-5130-491c-aa28-e959849c8d76"
      },
      "execution_count": null,
      "outputs": [
        {
          "output_type": "stream",
          "name": "stdout",
          "text": [
            "Enter a number: 3\n",
            "Enter a number: 6\n",
            "Enter a number: 7\n",
            "Enter a number: 6\n",
            "Enter a number: 3\n",
            "Enter a number: 3\n",
            "Enter a number: 3\n",
            "Enter a number: \n",
            "3 appears 4 times.\n",
            "6 appears 2 times.\n",
            "7 appears 1 times.\n"
          ]
        }
      ]
    },
    {
      "cell_type": "markdown",
      "source": [
        "01_phonebook.md"
      ],
      "metadata": {
        "id": "DH5Z1-GCxiAZ"
      }
    },
    {
      "cell_type": "code",
      "source": [
        "def read_phone_numbers():\n",
        "    \"\"\"\n",
        "    Ask the user for names/numbers to story in a phonebook (dictionary).\n",
        "    Returns the phonebook.\n",
        "    \"\"\"\n",
        "    phonebook = {}\n",
        "\n",
        "    while True:\n",
        "        name = input(\"Name: \")\n",
        "        if name == \"\":\n",
        "            break\n",
        "        number = input(\"Number: \")\n",
        "        phonebook[name] = number\n",
        "\n",
        "    return phonebook\n",
        "\n",
        "\n",
        "def print_phonebook(phonebook):\n",
        "    \"\"\"\n",
        "    Prints out all the names/numbers in the phonebook.\n",
        "    \"\"\"\n",
        "    for name in phonebook:\n",
        "        print(str(name) + \" -> \" + str(phonebook[name]))\n",
        "\n",
        "\n",
        "def lookup_numbers(phonebook):\n",
        "    \"\"\"\n",
        "    Allow the user to lookup phone numbers in the phonebook\n",
        "    by looking up the number associated with a name.\n",
        "    \"\"\"\n",
        "    while True:\n",
        "        name = input(\"Enter name to lookup: \")\n",
        "        if name == \"\":\n",
        "            break\n",
        "        if name not in phonebook:\n",
        "            print(name + \" is not in the phonebook\")\n",
        "        else:\n",
        "            print(phonebook[name])\n",
        "\n",
        "\n",
        "def main():\n",
        "    phonebook = read_phone_numbers()\n",
        "    print_phonebook(phonebook)\n",
        "    lookup_numbers(phonebook)\n",
        "\n",
        "\n",
        "# Python boilerplate.\n",
        "if __name__ == '__main__':\n",
        "    main()"
      ],
      "metadata": {
        "colab": {
          "base_uri": "https://localhost:8080/"
        },
        "id": "3BULeXotxktL",
        "outputId": "68b77657-e7c4-4430-be1d-3a735eb9f74e"
      },
      "execution_count": null,
      "outputs": [
        {
          "name": "stdout",
          "output_type": "stream",
          "text": [
            "Name: ayaz\n",
            "Number: 03453566784\n"
          ]
        }
      ]
    },
    {
      "cell_type": "markdown",
      "source": [],
      "metadata": {
        "id": "f1ZtrhZVsqXr"
      }
    },
    {
      "cell_type": "markdown",
      "source": [
        "02_pop_up_shop.md"
      ],
      "metadata": {
        "id": "FZVjF_11xppx"
      }
    },
    {
      "cell_type": "code",
      "source": [
        "def main():\n",
        "    fruits = {'apple': 1.5, 'durian': 50, 'jackfruit': 80, 'kiwi': 1, 'rambutan': 1.5, 'mango': 5}\n",
        "\n",
        "    total_cost = 0\n",
        "    for fruit_name in fruits:\n",
        "        price = fruits[fruit_name]\n",
        "        amount_bought = int(input(\"How many (\" + fruit_name + \") do you want to buy?: \"))\n",
        "        total_cost += (price * amount_bought)\n",
        "\n",
        "    print(\"Your total is $\" + str(total_cost))\n",
        "\n",
        "\n",
        "# There is no need to edit code beyond this point\n",
        "\n",
        "if __name__ == '__main__':\n",
        "    main()"
      ],
      "metadata": {
        "colab": {
          "base_uri": "https://localhost:8080/"
        },
        "id": "LRoxJZTCxsEv",
        "outputId": "30564b32-bb22-46c4-dc20-569437e1b2a8"
      },
      "execution_count": null,
      "outputs": [
        {
          "output_type": "stream",
          "name": "stdout",
          "text": [
            "How many (apple) do you want to buy?: 12\n",
            "How many (durian) do you want to buy?: 40\n",
            "How many (jackfruit) do you want to buy?: 60\n",
            "How many (kiwi) do you want to buy?: 20\n",
            "How many (rambutan) do you want to buy?: 70\n",
            "How many (mango) do you want to buy?: 40\n",
            "Your total is $7143.0\n"
          ]
        }
      ]
    },
    {
      "cell_type": "markdown",
      "source": [
        "03_powerful_passwords.md"
      ],
      "metadata": {
        "id": "ZFCoA0MHy5gV"
      }
    },
    {
      "cell_type": "code",
      "source": [
        "from hashlib import sha256\n",
        "\n",
        "def login(email, stored_logins, password_to_check):\n",
        "\n",
        "\n",
        "    if stored_logins[email] == hash_password(password_to_check):\n",
        "        return True\n",
        "    else\n",
        "    return False\n",
        "\n",
        "\n",
        "\n",
        "def hash_password(password):\n",
        "\n",
        "\n",
        "    return sha256(password.encode()).hexdigest()\n",
        "\n",
        "def main():\n",
        "    # stored_logins is a dictionary with emails as keys and hashed passwords as values\n",
        "    stored_logins = {\n",
        "        \"example@gmail.com\": \"5e884898da28047151d0e56f8dc6292773603d0d6aabbdd62a11ef721d1542d8\",\n",
        "        \"code_in_placer@cip.org\": \"973607a4ae7b4cf7d96a100b0fb07e8519cc4f70441d41214a9f811577bb06cc\",\n",
        "        \"student@stanford.edu\": \"882c6df720fd99f5eebb1581a1cf975625cea8a160283011c0b9512bb56c95fb\"\n",
        "    }\n",
        "\n",
        "    print(login(\"example@gmail.com\", stored_logins, \"word\"))\n",
        "    print(login(\"example@gmail.com\", stored_logins, \"password\"))\n",
        "\n",
        "    print(login(\"code_in_placer@cip.org\", stored_logins, \"Karel\"))\n",
        "    print(login(\"code_in_placer@cip.org\", stored_logins, \"karel\"))\n",
        "\n",
        "    print(login(\"student@stanford.edu\", stored_logins, \"password\"))\n",
        "    print(login(\"student@stanford.edu\", stored_logins, \"123!456?789\"))\n",
        "\n",
        "\n",
        "if __name__ == '__main__':\n",
        "    main()"
      ],
      "metadata": {
        "id": "8y0Wa_tDy7pu"
      },
      "execution_count": null,
      "outputs": []
    }
  ]
}