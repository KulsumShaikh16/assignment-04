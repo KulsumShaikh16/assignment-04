{
  "cells": [
    {
      "cell_type": "markdown",
      "metadata": {
        "id": "view-in-github",
        "colab_type": "text"
      },
      "source": [
        "<a href=\"https://colab.research.google.com/github/KulsumShaikh16/assignment-04/blob/main/intermediate.ipynb\" target=\"_parent\"><img src=\"https://colab.research.google.com/assets/colab-badge.svg\" alt=\"Open In Colab\"/></a>"
      ]
    },
    {
      "cell_type": "markdown",
      "metadata": {
        "id": "2NSSBpOen6Ot"
      },
      "source": [
        "Control Flow for Console"
      ]
    },
    {
      "cell_type": "code",
      "execution_count": null,
      "metadata": {
        "colab": {
          "base_uri": "https://localhost:8080/"
        },
        "id": "mfAKjVzgozrJ",
        "outputId": "e3ff5585-adcb-4207-f736-05df6cb78af2"
      },
      "outputs": [
        {
          "name": "stdout",
          "output_type": "stream",
          "text": [
            "Welcome to the High-Low Game!\n",
            "--------------------------------\n",
            "Round 1\n",
            "Your number is 26\n",
            "Do you think your number is higher or lower than the computer's?: higher\n",
            "You were right! The computer's number was 24\n",
            "Your score is now 1\n",
            "\n",
            "Round 2\n",
            "Your number is 3\n",
            "Do you think your number is higher or lower than the computer's?: higher\n",
            "Aww, that's incorrect. The computer's number was 88\n",
            "Your score is now 1\n",
            "\n",
            "Round 3\n",
            "Your number is 15\n",
            "Do you think your number is higher or lower than the computer's?: lower\n",
            "You were right! The computer's number was 33\n",
            "Your score is now 2\n",
            "\n",
            "Round 4\n",
            "Your number is 37\n",
            "Do you think your number is higher or lower than the computer's?: lower\n",
            "You were right! The computer's number was 62\n",
            "Your score is now 3\n",
            "\n",
            "Round 5\n",
            "Your number is 45\n",
            "Do you think your number is higher or lower than the computer's?: lower\n",
            "You were right! The computer's number was 64\n",
            "Your score is now 4\n",
            "\n",
            "Thanks for playing!\n",
            "Your final score was 4\n",
            "Good job, you played really well! 👍\n"
          ]
        }
      ],
      "source": [
        "import random\n",
        "\n",
        "NUM_ROUNDS = 5\n",
        "MIN_VALUE = 1\n",
        "MAX_VALUE = 100\n",
        "\n",
        "def main():\n",
        "    print(\"Welcome to the High-Low Game!\")\n",
        "    print(\"--------------------------------\")\n",
        "\n",
        "    score = 0\n",
        "\n",
        "    for round_num in range(1, NUM_ROUNDS + 1):\n",
        "        print(f\"Round {round_num}\")\n",
        "\n",
        "        # Generate random numbers\n",
        "        user_num = random.randint(MIN_VALUE, MAX_VALUE)\n",
        "        comp_num = random.randint(MIN_VALUE, MAX_VALUE)\n",
        "\n",
        "        print(f\"Your number is {user_num}\")\n",
        "\n",
        "        # Get user input and validate\n",
        "        guess = input(\"Do you think your number is higher or lower than the computer's?: \").lower().strip()\n",
        "        while guess not in [\"higher\", \"lower\"]:\n",
        "            guess = input(\"Please enter either 'higher' or 'lower': \").lower().strip()\n",
        "\n",
        "        # Check the logic\n",
        "        if user_num == comp_num:\n",
        "            print(f\"Aww, that's incorrect. The computer's number was {comp_num}\")\n",
        "        elif guess == \"higher\" and user_num > comp_num:\n",
        "            print(f\"You were right! The computer's number was {comp_num}\")\n",
        "            score += 1\n",
        "        elif guess == \"lower\" and user_num < comp_num:\n",
        "            print(f\"You were right! The computer's number was {comp_num}\")\n",
        "            score += 1\n",
        "        else:\n",
        "            print(f\"Aww, that's incorrect. The computer's number was {comp_num}\")\n",
        "\n",
        "        print(f\"Your score is now {score}\\n\")\n",
        "\n",
        "    # Ending message\n",
        "    print(\"Thanks for playing!\")\n",
        "    print(f\"Your final score was {score}\")\n",
        "\n",
        "    if score == NUM_ROUNDS:\n",
        "        print(\"Wow! You played perfectly! 🎉\")\n",
        "    elif score >= NUM_ROUNDS // 2:\n",
        "        print(\"Good job, you played really well! 👍\")\n",
        "    else:\n",
        "        print(\"Better luck next time! 😅\")\n",
        "\n",
        "if __name__ == '__main__':\n",
        "    main()\n"
      ]
    },
    {
      "cell_type": "markdown",
      "metadata": {
        "id": "MeyKQSDupb6B"
      },
      "source": [
        "solution.md"
      ]
    },
    {
      "cell_type": "code",
      "execution_count": null,
      "metadata": {
        "colab": {
          "base_uri": "https://localhost:8080/"
        },
        "id": "ZsEkCvUFqg67",
        "outputId": "73c65681-eaf7-4970-9fc1-a8f92881b5f9"
      },
      "outputs": [
        {
          "name": "stdout",
          "output_type": "stream",
          "text": [
            "Enter a weight on Earth: 200\n",
            "Enter a planet: Mars\n",
            "The equivalent weight on Mars: 75.6\n"
          ]
        }
      ],
      "source": [
        "def main():\n",
        "    # Planetary gravity percentages compared to Earth\n",
        "    gravity = {\n",
        "        \"Mercury\": 0.376,\n",
        "        \"Venus\": 0.889,\n",
        "        \"Mars\": 0.378,\n",
        "        \"Jupiter\": 2.36,\n",
        "        \"Saturn\": 1.081,\n",
        "        \"Uranus\": 0.815,\n",
        "        \"Neptune\": 1.14\n",
        "    }\n",
        "\n",
        "    # Get user input\n",
        "    earth_weight = float(input(\"Enter a weight on Earth: \"))\n",
        "    planet = input(\"Enter a planet: \")\n",
        "\n",
        "    # Calculate and print the equivalent weight\n",
        "    if planet in gravity:\n",
        "        planetary_weight = round(earth_weight * gravity[planet], 2)\n",
        "        print(f\"The equivalent weight on {planet}: {planetary_weight}\")\n",
        "    else:\n",
        "        print(\"That planet is not recognized.\")\n",
        "\n",
        "if __name__ == '__main__':\n",
        "    main()\n"
      ]
    },
    {
      "cell_type": "markdown",
      "metadata": {
        "id": "xHpu3QNfrXqn"
      },
      "source": [
        "Lists and Dicts\n"
      ]
    },
    {
      "cell_type": "markdown",
      "metadata": {
        "id": "Y-HmaCGdrZIu"
      },
      "source": [
        "Problem #1: List Practice"
      ]
    },
    {
      "cell_type": "code",
      "execution_count": null,
      "metadata": {
        "colab": {
          "base_uri": "https://localhost:8080/"
        },
        "id": "EYyYBQPoraiS",
        "outputId": "1b54fe4e-913b-4728-9c58-6dde35467834"
      },
      "outputs": [
        {
          "name": "stdout",
          "output_type": "stream",
          "text": [
            "Length of the list: 5\n",
            "Updated list: ['apple', 'banana', 'orange', 'grape', 'pineapple', 'mango']\n"
          ]
        }
      ],
      "source": [
        "def main():\n",
        "    # Create a list called fruit_list\n",
        "    fruit_list = ['apple', 'banana', 'orange', 'grape', 'pineapple']\n",
        "\n",
        "    # Print the length of the list\n",
        "    print(\"Length of the list:\", len(fruit_list))\n",
        "\n",
        "    # Add 'mango' at the end of the list\n",
        "    fruit_list.append('mango')\n",
        "\n",
        "    # Print the updated list\n",
        "    print(\"Updated list:\", fruit_list)\n",
        "\n",
        "if __name__ == '__main__':\n",
        "    main()"
      ]
    },
    {
      "cell_type": "markdown",
      "metadata": {
        "id": "Q51hw7sarlMw"
      },
      "source": [
        "Problem #2: Index Game\n"
      ]
    },
    {
      "cell_type": "code",
      "execution_count": null,
      "metadata": {
        "colab": {
          "background_save": true,
          "base_uri": "https://localhost:8080/"
        },
        "id": "lxtur5znrq3C",
        "outputId": "908bc02e-5e81-4b50-9d55-3a50d301164e"
      },
      "outputs": [
        {
          "name": "stdout",
          "output_type": "stream",
          "text": [
            "Welcome to the Index Game!\n",
            "Here is your list: ['apple', 'banana', 'orange', 'grape', 'pineapple']\n",
            "\n",
            "Choose an operation:\n",
            "1. Access an element\n",
            "2. Modify an element\n",
            "3. Slice the list\n",
            "4. Exit\n",
            "Sliced list: ['grape']\n",
            "\n",
            "Choose an operation:\n",
            "1. Access an element\n",
            "2. Modify an element\n",
            "3. Slice the list\n",
            "4. Exit\n"
          ]
        }
      ],
      "source": [
        "def access_element(my_list, index):\n",
        "    # Access and return the element at the specified index\n",
        "    if 0 <= index < len(my_list):\n",
        "        return my_list[index]\n",
        "    else:\n",
        "        return \"Index out of range\"\n",
        "\n",
        "def modify_element(my_list, index, new_value):\n",
        "    # Modify the element at the specified index with the new value\n",
        "    if 0 <= index < len(my_list):\n",
        "        my_list[index] = new_value\n",
        "        return my_list\n",
        "    else:\n",
        "        return \"Index out of range\"\n",
        "\n",
        "def slice_list(my_list, start, end):\n",
        "    # Slice the list from start to end index\n",
        "    if 0 <= start < len(my_list) and 0 <= end <= len(my_list):\n",
        "        return my_list[start:end]\n",
        "    else:\n",
        "        return \"Invalid slice indices\"\n",
        "\n",
        "def game():\n",
        "    my_list = ['apple', 'banana', 'orange', 'grape', 'pineapple']\n",
        "\n",
        "    print(\"Welcome to the Index Game!\")\n",
        "    print(\"Here is your list:\", my_list)\n",
        "\n",
        "    while True:\n",
        "        print(\"\\nChoose an operation:\")\n",
        "        print(\"1. Access an element\")\n",
        "        print(\"2. Modify an element\")\n",
        "        print(\"3. Slice the list\")\n",
        "        print(\"4. Exit\")\n",
        "\n",
        "        choice = input(\"Enter the number of your choice: \")\n",
        "\n",
        "        if choice == '1':\n",
        "            index = int(input(\"Enter the index to access: \"))\n",
        "            print(\"Element at index\", index, \":\", access_element(my_list, index))\n",
        "\n",
        "        elif choice == '2':\n",
        "            index = int(input(\"Enter the index to modify: \"))\n",
        "            new_value = input(\"Enter the new value: \")\n",
        "            print(\"Updated list:\", modify_element(my_list, index, new_value))\n",
        "\n",
        "        elif choice == '3':\n",
        "            start = int(input(\"Enter the start index: \"))\n",
        "            end = int(input(\"Enter the end index: \"))\n",
        "            print(\"Sliced list:\", slice_list(my_list, start, end))\n",
        "\n",
        "        elif choice == '4':\n",
        "            print(\"Thanks for playing!\")\n",
        "            break\n",
        "        else:\n",
        "            print(\"Invalid choice, please try again.\")\n",
        "\n",
        "if __name__ == '__main__':\n",
        "    game()"
      ]
    }
  ],
  "metadata": {
    "colab": {
      "provenance": [],
      "authorship_tag": "ABX9TyOe3AM4dFmn20IlTOeL8Gi/",
      "include_colab_link": true
    },
    "kernelspec": {
      "display_name": "Python 3",
      "name": "python3"
    },
    "language_info": {
      "name": "python"
    }
  },
  "nbformat": 4,
  "nbformat_minor": 0
}