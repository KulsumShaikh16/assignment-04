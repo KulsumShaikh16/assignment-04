{
  "nbformat": 4,
  "nbformat_minor": 0,
  "metadata": {
    "colab": {
      "provenance": [],
      "authorship_tag": "ABX9TyMjgfUY0xca9TYNzdtt9Fpb",
      "include_colab_link": true
    },
    "kernelspec": {
      "name": "python3",
      "display_name": "Python 3"
    },
    "language_info": {
      "name": "python"
    }
  },
  "cells": [
    {
      "cell_type": "markdown",
      "metadata": {
        "id": "view-in-github",
        "colab_type": "text"
      },
      "source": [
        "<a href=\"https://colab.research.google.com/github/KulsumShaikh16/assignment-04/blob/main/basic.ipynb\" target=\"_parent\"><img src=\"https://colab.research.google.com/assets/colab-badge.svg\" alt=\"Open In Colab\"/></a>"
      ]
    },
    {
      "cell_type": "markdown",
      "source": [
        "**01_basics**"
      ],
      "metadata": {
        "id": "zmQ-My5SkQ4C"
      }
    },
    {
      "cell_type": "markdown",
      "source": [
        "00_joke_bot.md"
      ],
      "metadata": {
        "id": "QnEhIgx0kdPy"
      }
    },
    {
      "cell_type": "code",
      "source": [
        "# Constants\n",
        "PROMPT: str = \"What do you want? \"\n",
        "JOKE: str = (\"Here is a joke for you! Why do programmers prefer dark mode? \"\n",
        "             \"Because light attracts bugs!\")\n",
        "SORRY_RESPONSES = [\n",
        "    \"Haye! Sirf joke ata hai mujhe 😅\",\n",
        "    \"Try typing 'Joke' boss! 😄\",\n",
        "    \"Bas joke sunaoon ga, aur kuch nahi 😜\",\n",
        "    \"Mai bot hoon, gossip nahi kar sakta 😭\",\n",
        "    \"Sirf 'Joke' bolo, warna main sorry bolta rahoon ga 😆\"\n",
        "]\n",
        "\n",
        "import random\n",
        "\n",
        "def main():\n",
        "    user_input = input(PROMPT)\n",
        "\n",
        "    if user_input == \"Joke\":\n",
        "        print(JOKE)\n",
        "    else:\n",
        "        print(random.choice(SORRY_RESPONSES))\n",
        "\n",
        "if __name__ == '__main__':\n",
        "    main()\n",
        "\n"
      ],
      "metadata": {
        "colab": {
          "base_uri": "https://localhost:8080/"
        },
        "id": "pm6GNqJ3lT1f",
        "outputId": "da557ec7-11c6-42fd-9747-47b8fce1b60d"
      },
      "execution_count": 9,
      "outputs": [
        {
          "output_type": "stream",
          "name": "stdout",
          "text": [
            "What do you want? Joke\n",
            "Here is a joke for you! Why do programmers prefer dark mode? Because light attracts bugs!\n"
          ]
        }
      ]
    },
    {
      "cell_type": "markdown",
      "source": [
        "01_double_it.md"
      ],
      "metadata": {
        "id": "TDyD__4BmiKw"
      }
    },
    {
      "cell_type": "code",
      "source": [
        "def main():\n",
        "    # Ask the user to enter a number\n",
        "    curr_value = int(input(\"Enter a number: \"))\n",
        "\n",
        "    # Double the number until it reaches or exceeds 100\n",
        "    while curr_value < 100:\n",
        "        curr_value = curr_value * 2\n",
        "        print(curr_value)\n",
        "\n",
        "# This provided line is required at the end of\n",
        "# Python file to call the main() function.\n",
        "if __name__ == '__main__':\n",
        "    main()"
      ],
      "metadata": {
        "colab": {
          "base_uri": "https://localhost:8080/"
        },
        "id": "s2H9K8qQmoXh",
        "outputId": "c4a1855b-a018-40a7-b22e-ad0b95039b2d"
      },
      "execution_count": 10,
      "outputs": [
        {
          "output_type": "stream",
          "name": "stdout",
          "text": [
            "Enter a number: 10\n",
            "20\n",
            "40\n",
            "80\n",
            "160\n"
          ]
        }
      ]
    },
    {
      "cell_type": "markdown",
      "source": [
        "02_liftoff.md"
      ],
      "metadata": {
        "id": "4W0NMp78mtnZ"
      }
    },
    {
      "cell_type": "code",
      "source": [
        "def main():\n",
        "    for i in range(10, 0, -1):\n",
        "        print(i, end=' ')\n",
        "    print(\"Liftoff!\")\n",
        "\n",
        "if __name__ == '__main__':\n",
        "    main()"
      ],
      "metadata": {
        "colab": {
          "base_uri": "https://localhost:8080/"
        },
        "id": "YsxBmAafm4v7",
        "outputId": "a3f0a1b5-75b0-4c9c-83d5-b0437d4f7b92"
      },
      "execution_count": 11,
      "outputs": [
        {
          "output_type": "stream",
          "name": "stdout",
          "text": [
            "10 9 8 7 6 5 4 3 2 1 Liftoff!\n"
          ]
        }
      ]
    },
    {
      "cell_type": "markdown",
      "source": [
        "03_guess_my_number.md"
      ],
      "metadata": {
        "id": "MwWaZBwQm82t"
      }
    },
    {
      "cell_type": "code",
      "source": [
        "import random\n",
        "\n",
        "def main():\n",
        "    # Generate the secret number at random!\n",
        "    secret_number: int = random.randint(1, 99)\n",
        "\n",
        "    print(\"I am thinking of a number between 1 and 99...\")\n",
        "\n",
        "    # Get user's guess\n",
        "    guess = int(input(\"Enter a guess: \"))\n",
        "    # True if guess is not equal to secret number\n",
        "    while guess != secret_number:\n",
        "        if guess < secret_number:  # If-statement is True if guess is less than secret number\n",
        "            print(\"Your guess is too low\")\n",
        "        else:\n",
        "            print(\"Your guess is too high\")\n",
        "\n",
        "        print() # Print an empty line to tidy up the console for new guesses\n",
        "        guess: int = int(input(\"Enter a new guess: \"))  # Get a new guess from the user\n",
        "\n",
        "    print(\"Congrats! The number was: \" + str(secret_number))\n",
        "\n",
        "if __name__ == '__main__':\n",
        "    main()\n"
      ],
      "metadata": {
        "id": "aT6MOwNAnAaD"
      },
      "execution_count": null,
      "outputs": []
    },
    {
      "cell_type": "markdown",
      "source": [
        "04_random_numbers.md"
      ],
      "metadata": {
        "id": "Fiivl05CnL6D"
      }
    },
    {
      "cell_type": "code",
      "source": [
        "import random\n",
        "\n",
        "N_NUMBERS: int = 10\n",
        "MIN_VALUE: int = 1\n",
        "MAX_VALUE: int = 100\n",
        "\n",
        "def main():\n",
        "    for _ in range(N_NUMBERS):\n",
        "        value = random.randint(MIN_VALUE, MAX_VALUE)\n",
        "        print(value, end=' ')\n",
        "    print()  # For a newline at the end\n",
        "\n",
        "if __name__ == '__main__':\n",
        "    main()\n"
      ],
      "metadata": {
        "colab": {
          "base_uri": "https://localhost:8080/"
        },
        "id": "m1evqDDEnV_P",
        "outputId": "e6790dbd-0783-4ff4-ee4c-914952c25359"
      },
      "execution_count": 12,
      "outputs": [
        {
          "output_type": "stream",
          "name": "stdout",
          "text": [
            "56 46 71 95 4 77 31 25 39 31 \n"
          ]
        }
      ]
    }
  ]
}